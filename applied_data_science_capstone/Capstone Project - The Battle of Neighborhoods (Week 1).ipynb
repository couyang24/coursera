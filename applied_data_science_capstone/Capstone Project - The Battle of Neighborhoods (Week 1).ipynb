{
 "cells": [
  {
   "cell_type": "markdown",
   "metadata": {},
   "source": [
    "# Food Hunt in downtown Toronto (Part 1)"
   ]
  },
  {
   "cell_type": "markdown",
   "metadata": {},
   "source": [
    "## Introduction/Business Problem "
   ]
  },
  {
   "cell_type": "markdown",
   "metadata": {},
   "source": [
    "As the financial center Canada and one of the multiculutural metropolises, Toronto attracts immigration from all over the world and, therefore, its food culture is significantly influenced by the city's immigrant history, which turned the city into one of the most ideal places to seek for different type of delicious cuisines. \n",
    "\n",
    "\n",
    "Here is some examples:\n",
    "\n",
    "\n",
    "Central and Eastern European -  bagels, cheesecake, hot dogs, knishes, and delicatessens (or delis)\n",
    "\n",
    "Italian - New York-style pizza and Italian cuisine\n",
    "\n",
    "Jewish - pastrami \n",
    "\n",
    "Irish - corned beef\n",
    "\n",
    "Chinese - Hotpot, Dim Sum, Noodle, Fried Rice\n",
    "\n",
    "Japanese - Sushi\n",
    "\n",
    "Korea - Fried Chicken, BBQ\n",
    "\n",
    "This study is aiming to find out whether these different type of cuisines are clustered in different part of the city and found out highly rated resturants at different price level.\n"
   ]
  },
  {
   "cell_type": "markdown",
   "metadata": {},
   "source": [
    "## Data Source"
   ]
  },
  {
   "cell_type": "markdown",
   "metadata": {},
   "source": [
    "Data used in the analysis are listed below:\n",
    "\n",
    "· List of postal codes of Canada: M -- Wikipedia[2].\n",
    "\n",
    "· Using Geopy to get geological location by address name\n",
    "\n",
    "· Using Foursquare API to get the most common venues of given Borough of Toronto.\n",
    "\n",
    "· Using Foursquare API to get the venues' record of given venues of Toronto"
   ]
  },
  {
   "cell_type": "code",
   "execution_count": null,
   "metadata": {},
   "outputs": [],
   "source": []
  }
 ],
 "metadata": {
  "kernelspec": {
   "display_name": "Python 3",
   "language": "python",
   "name": "python3"
  },
  "language_info": {
   "codemirror_mode": {
    "name": "ipython",
    "version": 3
   },
   "file_extension": ".py",
   "mimetype": "text/x-python",
   "name": "python",
   "nbconvert_exporter": "python",
   "pygments_lexer": "ipython3",
   "version": "3.7.7"
  }
 },
 "nbformat": 4,
 "nbformat_minor": 2
}
