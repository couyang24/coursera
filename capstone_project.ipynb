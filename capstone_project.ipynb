{
    "cells": [
        {
            "cell_type": "markdown",
            "metadata": {
                "colab_type": "text",
                "id": "rKOnpXoj4--W"
            },
            "source": "# Food Hunt in downtown Toronto (Part 2)"
        },
        {
            "cell_type": "markdown",
            "metadata": {
                "colab_type": "text",
                "id": "K0n2wKPj5LeN"
            },
            "source": "# Load Packages"
        },
        {
            "cell_type": "code",
            "execution_count": 1,
            "metadata": {},
            "outputs": [
                {
                    "name": "stdout",
                    "output_type": "stream",
                    "text": "Collecting folium\n\u001b[?25l  Downloading https://files.pythonhosted.org/packages/a4/f0/44e69d50519880287cc41e7c8a6acc58daa9a9acf5f6afc52bcc70f69a6d/folium-0.11.0-py2.py3-none-any.whl (93kB)\n\u001b[K     |\u2588\u2588\u2588\u2588\u2588\u2588\u2588\u2588\u2588\u2588\u2588\u2588\u2588\u2588\u2588\u2588\u2588\u2588\u2588\u2588\u2588\u2588\u2588\u2588\u2588\u2588\u2588\u2588\u2588\u2588\u2588\u2588| 102kB 11.2MB/s ta 0:00:01\n\u001b[?25hRequirement already satisfied: numpy in /opt/conda/envs/Python36/lib/python3.6/site-packages (from folium) (1.15.4)\nRequirement already satisfied: jinja2>=2.9 in /opt/conda/envs/Python36/lib/python3.6/site-packages (from folium) (2.10)\nCollecting branca>=0.3.0 (from folium)\n  Downloading https://files.pythonhosted.org/packages/13/fb/9eacc24ba3216510c6b59a4ea1cd53d87f25ba76237d7f4393abeaf4c94e/branca-0.4.1-py3-none-any.whl\nRequirement already satisfied: requests in /opt/conda/envs/Python36/lib/python3.6/site-packages (from folium) (2.21.0)\nRequirement already satisfied: MarkupSafe>=0.23 in /opt/conda/envs/Python36/lib/python3.6/site-packages (from jinja2>=2.9->folium) (1.1.0)\nRequirement already satisfied: urllib3<1.25,>=1.21.1 in /opt/conda/envs/Python36/lib/python3.6/site-packages (from requests->folium) (1.24.1)\nRequirement already satisfied: idna<2.9,>=2.5 in /opt/conda/envs/Python36/lib/python3.6/site-packages (from requests->folium) (2.8)\nRequirement already satisfied: certifi>=2017.4.17 in /opt/conda/envs/Python36/lib/python3.6/site-packages (from requests->folium) (2020.6.20)\nRequirement already satisfied: chardet<3.1.0,>=3.0.2 in /opt/conda/envs/Python36/lib/python3.6/site-packages (from requests->folium) (3.0.4)\nInstalling collected packages: branca, folium\nSuccessfully installed branca-0.4.1 folium-0.11.0\n"
                }
            ],
            "source": "!pip install folium"
        },
        {
            "cell_type": "code",
            "execution_count": 2,
            "metadata": {},
            "outputs": [
                {
                    "name": "stdout",
                    "output_type": "stream",
                    "text": "Collecting pgeocode\n  Downloading https://files.pythonhosted.org/packages/86/44/519e3db3db84acdeb29e24f2e65991960f13464279b61bde5e9e96909c9d/pgeocode-0.2.1-py2.py3-none-any.whl\nRequirement already satisfied: numpy in /opt/conda/envs/Python36/lib/python3.6/site-packages (from pgeocode) (1.15.4)\nRequirement already satisfied: requests in /opt/conda/envs/Python36/lib/python3.6/site-packages (from pgeocode) (2.21.0)\nRequirement already satisfied: pandas in /opt/conda/envs/Python36/lib/python3.6/site-packages (from pgeocode) (0.24.1)\nRequirement already satisfied: urllib3<1.25,>=1.21.1 in /opt/conda/envs/Python36/lib/python3.6/site-packages (from requests->pgeocode) (1.24.1)\nRequirement already satisfied: idna<2.9,>=2.5 in /opt/conda/envs/Python36/lib/python3.6/site-packages (from requests->pgeocode) (2.8)\nRequirement already satisfied: chardet<3.1.0,>=3.0.2 in /opt/conda/envs/Python36/lib/python3.6/site-packages (from requests->pgeocode) (3.0.4)\nRequirement already satisfied: certifi>=2017.4.17 in /opt/conda/envs/Python36/lib/python3.6/site-packages (from requests->pgeocode) (2020.6.20)\nRequirement already satisfied: pytz>=2011k in /opt/conda/envs/Python36/lib/python3.6/site-packages (from pandas->pgeocode) (2018.9)\nRequirement already satisfied: python-dateutil>=2.5.0 in /opt/conda/envs/Python36/lib/python3.6/site-packages (from pandas->pgeocode) (2.7.5)\nRequirement already satisfied: six>=1.5 in /opt/conda/envs/Python36/lib/python3.6/site-packages (from python-dateutil>=2.5.0->pandas->pgeocode) (1.12.0)\nInstalling collected packages: pgeocode\nSuccessfully installed pgeocode-0.2.1\n"
                }
            ],
            "source": "!pip install pgeocode"
        },
        {
            "cell_type": "code",
            "execution_count": 3,
            "metadata": {
                "colab": {},
                "colab_type": "code",
                "id": "7_ZNAphA4--a"
            },
            "outputs": [],
            "source": "import pandas as pd\nimport requests\nfrom bs4 import BeautifulSoup\nimport folium\nfrom folium.plugins import MarkerCluster\nfrom geopy.geocoders import Nominatim"
        },
        {
            "cell_type": "code",
            "execution_count": 4,
            "metadata": {},
            "outputs": [],
            "source": "def locator(df, postal_code, country_code):\n    import pgeocode\n    import pandas\n\n    nomi = pgeocode.Nominatim(country_code)\n    df['lat'] = df[postal_code].apply(lambda x:nomi.query_postal_code(x).latitude)\n    df['lng'] = df[postal_code].apply(lambda x:nomi.query_postal_code(x).longitude)\n\n    return df"
        },
        {
            "cell_type": "code",
            "execution_count": 5,
            "metadata": {},
            "outputs": [],
            "source": "url = requests.get('https://en.wikipedia.org/wiki/List_of_postal_codes_of_Canada:_M').text\nsoup = BeautifulSoup(url, 'lxml')\nwikitable = soup.find('table')\ncolumns = [i.text.strip() for i in wikitable.find_all('th')]\ndata = [[j.text.strip() for j in i.find_all('td')] for i in wikitable.find_all(\"tr\")[1:]]\ntrtdata = pd.DataFrame(data, columns = columns)\ntrtdata['Neighborhood'] = trtdata.Neighborhood.apply(lambda x: x.replace(' /',','))\ntrtdata.columns = ['PostalCode','Borough', 'Neighborhood']"
        },
        {
            "cell_type": "code",
            "execution_count": 6,
            "metadata": {},
            "outputs": [],
            "source": "trtdata1 = trtdata.loc[trtdata.Borough != 'Not assigned'].reset_index(drop=True)\ntrtdata1.loc[trtdata1.Neighborhood == 'Not assigned', 'Neighborhood'] = trtdata['Borough']\ntrtdata2 = trtdata1.groupby(['PostalCode', 'Borough']).agg(', '.join).reset_index()\ntrtdata3 = locator(trtdata2, 'PostalCode', 'ca')\ntrtdata3 = trtdata3.dropna()"
        },
        {
            "cell_type": "code",
            "execution_count": 7,
            "metadata": {},
            "outputs": [
                {
                    "data": {
                        "text/html": "<div>\n<style scoped>\n    .dataframe tbody tr th:only-of-type {\n        vertical-align: middle;\n    }\n\n    .dataframe tbody tr th {\n        vertical-align: top;\n    }\n\n    .dataframe thead th {\n        text-align: right;\n    }\n</style>\n<table border=\"1\" class=\"dataframe\">\n  <thead>\n    <tr style=\"text-align: right;\">\n      <th></th>\n      <th>PostalCode</th>\n      <th>Borough</th>\n      <th>Neighborhood</th>\n      <th>lat</th>\n      <th>lng</th>\n    </tr>\n  </thead>\n  <tbody>\n    <tr>\n      <th>0</th>\n      <td>M1B</td>\n      <td>Scarborough</td>\n      <td>Malvern, Rouge</td>\n      <td>43.8113</td>\n      <td>-79.1930</td>\n    </tr>\n    <tr>\n      <th>1</th>\n      <td>M1C</td>\n      <td>Scarborough</td>\n      <td>Rouge Hill, Port Union, Highland Creek</td>\n      <td>43.7878</td>\n      <td>-79.1564</td>\n    </tr>\n    <tr>\n      <th>2</th>\n      <td>M1E</td>\n      <td>Scarborough</td>\n      <td>Guildwood, Morningside, West Hill</td>\n      <td>43.7678</td>\n      <td>-79.1866</td>\n    </tr>\n    <tr>\n      <th>3</th>\n      <td>M1G</td>\n      <td>Scarborough</td>\n      <td>Woburn</td>\n      <td>43.7712</td>\n      <td>-79.2144</td>\n    </tr>\n    <tr>\n      <th>4</th>\n      <td>M1H</td>\n      <td>Scarborough</td>\n      <td>Cedarbrae</td>\n      <td>43.7686</td>\n      <td>-79.2389</td>\n    </tr>\n  </tbody>\n</table>\n</div>",
                        "text/plain": "  PostalCode      Borough                            Neighborhood      lat  \\\n0        M1B  Scarborough                          Malvern, Rouge  43.8113   \n1        M1C  Scarborough  Rouge Hill, Port Union, Highland Creek  43.7878   \n2        M1E  Scarborough       Guildwood, Morningside, West Hill  43.7678   \n3        M1G  Scarborough                                  Woburn  43.7712   \n4        M1H  Scarborough                               Cedarbrae  43.7686   \n\n       lng  \n0 -79.1930  \n1 -79.1564  \n2 -79.1866  \n3 -79.2144  \n4 -79.2389  "
                    },
                    "execution_count": 7,
                    "metadata": {},
                    "output_type": "execute_result"
                }
            ],
            "source": "trtdata3.head()"
        },
        {
            "cell_type": "code",
            "execution_count": 8,
            "metadata": {},
            "outputs": [],
            "source": "# The code was removed by Watson Studio for sharing."
        },
        {
            "cell_type": "code",
            "execution_count": 9,
            "metadata": {},
            "outputs": [],
            "source": "radius=1000\nLIMIT=10\nVERSION = '20200605'\nlat = trtdata3.lat[0]\nlng = trtdata3.lng[0]"
        },
        {
            "cell_type": "code",
            "execution_count": 53,
            "metadata": {},
            "outputs": [
                {
                    "data": {
                        "text/html": "<div>\n<style scoped>\n    .dataframe tbody tr th:only-of-type {\n        vertical-align: middle;\n    }\n\n    .dataframe tbody tr th {\n        vertical-align: top;\n    }\n\n    .dataframe thead th {\n        text-align: right;\n    }\n</style>\n<table border=\"1\" class=\"dataframe\">\n  <thead>\n    <tr style=\"text-align: right;\">\n      <th></th>\n      <th>PostalCode</th>\n      <th>Borough</th>\n      <th>Neighborhood</th>\n      <th>lat</th>\n      <th>lng</th>\n    </tr>\n  </thead>\n  <tbody>\n    <tr>\n      <th>0</th>\n      <td>M1B</td>\n      <td>Scarborough</td>\n      <td>Malvern, Rouge</td>\n      <td>43.8113</td>\n      <td>-79.1930</td>\n    </tr>\n    <tr>\n      <th>1</th>\n      <td>M1C</td>\n      <td>Scarborough</td>\n      <td>Rouge Hill, Port Union, Highland Creek</td>\n      <td>43.7878</td>\n      <td>-79.1564</td>\n    </tr>\n    <tr>\n      <th>2</th>\n      <td>M1E</td>\n      <td>Scarborough</td>\n      <td>Guildwood, Morningside, West Hill</td>\n      <td>43.7678</td>\n      <td>-79.1866</td>\n    </tr>\n    <tr>\n      <th>3</th>\n      <td>M1G</td>\n      <td>Scarborough</td>\n      <td>Woburn</td>\n      <td>43.7712</td>\n      <td>-79.2144</td>\n    </tr>\n    <tr>\n      <th>4</th>\n      <td>M1H</td>\n      <td>Scarborough</td>\n      <td>Cedarbrae</td>\n      <td>43.7686</td>\n      <td>-79.2389</td>\n    </tr>\n  </tbody>\n</table>\n</div>",
                        "text/plain": "  PostalCode      Borough                            Neighborhood      lat  \\\n0        M1B  Scarborough                          Malvern, Rouge  43.8113   \n1        M1C  Scarborough  Rouge Hill, Port Union, Highland Creek  43.7878   \n2        M1E  Scarborough       Guildwood, Morningside, West Hill  43.7678   \n3        M1G  Scarborough                                  Woburn  43.7712   \n4        M1H  Scarborough                               Cedarbrae  43.7686   \n\n       lng  \n0 -79.1930  \n1 -79.1564  \n2 -79.1866  \n3 -79.2144  \n4 -79.2389  "
                    },
                    "execution_count": 53,
                    "metadata": {},
                    "output_type": "execute_result"
                }
            ],
            "source": "trtdata3.head()"
        },
        {
            "cell_type": "code",
            "execution_count": 24,
            "metadata": {},
            "outputs": [],
            "source": "for row in range(trtdata3.shape[0]):\n    # create the API request URL\n    url = 'https://api.foursquare.com/v2/venues/explore?&client_id={}&client_secret={}&v={}&ll={},{}&radius={}&limit={}'.format(\n        CLIENT_ID, \n        CLIENT_SECRET, \n        VERSION, \n        trtdata3.lat[row], \n        trtdata3.lng[row], \n        radius, \n        LIMIT)\n\n    # make the GET request\n    result = requests.get(url).json()\n    \n    results.append(result)"
        },
        {
            "cell_type": "code",
            "execution_count": 25,
            "metadata": {},
            "outputs": [],
            "source": "clean_data = results[\"response\"]['groups'][0]['items']"
        },
        {
            "cell_type": "code",
            "execution_count": 38,
            "metadata": {},
            "outputs": [
                {
                    "data": {
                        "text/plain": "'Canadiana exhibit'"
                    },
                    "execution_count": 38,
                    "metadata": {},
                    "output_type": "execute_result"
                }
            ],
            "source": "clean_data[0]['venue']['name']"
        },
        {
            "cell_type": "code",
            "execution_count": 39,
            "metadata": {},
            "outputs": [],
            "source": "venues_list=[]"
        },
        {
            "cell_type": "code",
            "execution_count": 48,
            "metadata": {},
            "outputs": [],
            "source": "venues_list.append([(\n    v['venue']['name'], \n    v['venue']['location']['lat'], \n    v['venue']['location']['lng'],  \n    v['venue']['categories'][0]['name']) for v in clean_data])"
        },
        {
            "cell_type": "code",
            "execution_count": 61,
            "metadata": {},
            "outputs": [
                {
                    "data": {
                        "text/plain": "[('Canadiana exhibit', 43.81796218928876, -79.19337359666939, 'Zoo Exhibit'),\n ('Wendy\u2019s', 43.80744841934756, -79.19905558052072, 'Fast Food Restaurant'),\n ('Upper Rouge Trail', 43.809988, -79.186147, 'Trail'),\n ('Grizzly Bear Exhibit',\n  43.81703052481388,\n  -79.19345807605157,\n  'Zoo Exhibit'),\n ('FASTSIGNS', 43.8078818, -79.2019677, 'Business Service'),\n ('Cheetah Exhibit', 43.817588, -79.187206, 'Other Great Outdoors'),\n ('simba safari lodge', 43.81730484815479, -79.1859038113143, 'Zoo Exhibit'),\n ('Zebra Exhibit', 43.81804455844179, -79.18705579898379, 'Zoo Exhibit'),\n ('White Rhinoceros exhibit',\n  43.81743351153191,\n  -79.18547444686472,\n  'Zoo Exhibit'),\n ('Olive Baboon Exhibit',\n  43.81854541587957,\n  -79.18723762523135,\n  'Zoo Exhibit')]"
                    },
                    "execution_count": 61,
                    "metadata": {},
                    "output_type": "execute_result"
                }
            ],
            "source": "[item for item in venues_list[0]]"
        },
        {
            "cell_type": "code",
            "execution_count": 59,
            "metadata": {},
            "outputs": [
                {
                    "data": {
                        "text/plain": "[[('Canadiana exhibit', 43.81796218928876, -79.19337359666939, 'Zoo Exhibit'),\n  ('Wendy\u2019s', 43.80744841934756, -79.19905558052072, 'Fast Food Restaurant'),\n  ('Upper Rouge Trail', 43.809988, -79.186147, 'Trail'),\n  ('Grizzly Bear Exhibit',\n   43.81703052481388,\n   -79.19345807605157,\n   'Zoo Exhibit'),\n  ('FASTSIGNS', 43.8078818, -79.2019677, 'Business Service'),\n  ('Cheetah Exhibit', 43.817588, -79.187206, 'Other Great Outdoors'),\n  ('simba safari lodge', 43.81730484815479, -79.1859038113143, 'Zoo Exhibit'),\n  ('Zebra Exhibit', 43.81804455844179, -79.18705579898379, 'Zoo Exhibit'),\n  ('White Rhinoceros exhibit',\n   43.81743351153191,\n   -79.18547444686472,\n   'Zoo Exhibit'),\n  ('Olive Baboon Exhibit',\n   43.81854541587957,\n   -79.18723762523135,\n   'Zoo Exhibit')]]"
                    },
                    "execution_count": 59,
                    "metadata": {},
                    "output_type": "execute_result"
                }
            ],
            "source": "venues_list"
        },
        {
            "cell_type": "code",
            "execution_count": null,
            "metadata": {},
            "outputs": [],
            "source": ""
        }
    ],
    "metadata": {
        "colab": {
            "name": "Capstone Project - The Battle of Neighborhoods (Week 2).ipynb",
            "provenance": []
        },
        "kernelspec": {
            "display_name": "Python 3.6",
            "language": "python",
            "name": "python3"
        },
        "language_info": {
            "codemirror_mode": {
                "name": "ipython",
                "version": 3
            },
            "file_extension": ".py",
            "mimetype": "text/x-python",
            "name": "python",
            "nbconvert_exporter": "python",
            "pygments_lexer": "ipython3",
            "version": "3.6.9"
        }
    },
    "nbformat": 4,
    "nbformat_minor": 1
}