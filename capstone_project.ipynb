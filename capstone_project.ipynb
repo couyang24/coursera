{
    "cells": [
        {
            "cell_type": "markdown",
            "metadata": {
                "colab_type": "text",
                "id": "rKOnpXoj4--W"
            },
            "source": "# Food Hunt in downtown Toronto (Part 2)"
        },
        {
            "cell_type": "markdown",
            "metadata": {
                "colab_type": "text",
                "id": "K0n2wKPj5LeN"
            },
            "source": "# Load Packages"
        },
        {
            "cell_type": "code",
            "execution_count": 7,
            "metadata": {},
            "outputs": [
                {
                    "name": "stdout",
                    "output_type": "stream",
                    "text": "Collecting folium\n\u001b[?25l  Downloading https://files.pythonhosted.org/packages/a4/f0/44e69d50519880287cc41e7c8a6acc58daa9a9acf5f6afc52bcc70f69a6d/folium-0.11.0-py2.py3-none-any.whl (93kB)\n\u001b[K     |\u2588\u2588\u2588\u2588\u2588\u2588\u2588\u2588\u2588\u2588\u2588\u2588\u2588\u2588\u2588\u2588\u2588\u2588\u2588\u2588\u2588\u2588\u2588\u2588\u2588\u2588\u2588\u2588\u2588\u2588\u2588\u2588| 102kB 6.9MB/s ta 0:00:011\n\u001b[?25hCollecting branca>=0.3.0 (from folium)\n  Downloading https://files.pythonhosted.org/packages/13/fb/9eacc24ba3216510c6b59a4ea1cd53d87f25ba76237d7f4393abeaf4c94e/branca-0.4.1-py3-none-any.whl\nRequirement already satisfied: requests in /opt/conda/envs/Python36/lib/python3.6/site-packages (from folium) (2.21.0)\nRequirement already satisfied: numpy in /opt/conda/envs/Python36/lib/python3.6/site-packages (from folium) (1.15.4)\nRequirement already satisfied: jinja2>=2.9 in /opt/conda/envs/Python36/lib/python3.6/site-packages (from folium) (2.10)\nRequirement already satisfied: chardet<3.1.0,>=3.0.2 in /opt/conda/envs/Python36/lib/python3.6/site-packages (from requests->folium) (3.0.4)\nRequirement already satisfied: urllib3<1.25,>=1.21.1 in /opt/conda/envs/Python36/lib/python3.6/site-packages (from requests->folium) (1.24.1)\nRequirement already satisfied: idna<2.9,>=2.5 in /opt/conda/envs/Python36/lib/python3.6/site-packages (from requests->folium) (2.8)\nRequirement already satisfied: certifi>=2017.4.17 in /opt/conda/envs/Python36/lib/python3.6/site-packages (from requests->folium) (2020.6.20)\nRequirement already satisfied: MarkupSafe>=0.23 in /opt/conda/envs/Python36/lib/python3.6/site-packages (from jinja2>=2.9->folium) (1.1.0)\nInstalling collected packages: branca, folium\nSuccessfully installed branca-0.4.1 folium-0.11.0\n"
                }
            ],
            "source": "!pip install folium"
        },
        {
            "cell_type": "code",
            "execution_count": 8,
            "metadata": {
                "colab": {},
                "colab_type": "code",
                "id": "7_ZNAphA4--a"
            },
            "outputs": [],
            "source": "import pandas as pd\nimport requests\nfrom bs4 import BeautifulSoup\nimport folium\nfrom folium.plugins import MarkerCluster\nfrom geopy.geocoders import Nominatim"
        },
        {
            "cell_type": "code",
            "execution_count": 10,
            "metadata": {},
            "outputs": [],
            "source": "def locator(df, postal_code, country_code):\n    import pgeocode\n    import pandas\n\n    nomi = pgeocode.Nominatim(country_code)\n    df['lat'] = df[postal_code].apply(lambda x:nomi.query_postal_code(x).latitude)\n    df['lng'] = df[postal_code].apply(lambda x:nomi.query_postal_code(x).longitude)\n\n    return df"
        },
        {
            "cell_type": "code",
            "execution_count": 12,
            "metadata": {},
            "outputs": [],
            "source": "url = requests.get('https://en.wikipedia.org/wiki/List_of_postal_codes_of_Canada:_M').text\nsoup = BeautifulSoup(url, 'lxml')"
        },
        {
            "cell_type": "code",
            "execution_count": 13,
            "metadata": {},
            "outputs": [
                {
                    "name": "stdout",
                    "output_type": "stream",
                    "text": "<!DOCTYPE html>\n<html class=\"client-nojs\" dir=\"ltr\" lang=\"en\">\n <head>\n  <meta charset=\"utf-8\"/>\n  <title>\n   List of postal codes of Canada: M - Wikipedia\n  </title>\n  <script>\n   document.documentElement.className=\"client-js\";RLCONF={\"wgBreakFrames\":!1,\"wgSeparatorTransformTable\":[\"\",\"\"],\"wgDigitTransformTable\":[\"\",\"\"],\"wgDefaultDateFormat\":\"dmy\",\"wgMonthNames\":[\"\",\"January\",\"February\",\"March\",\"April\",\"May\",\"June\",\"July\",\"August\",\"September\",\"October\",\"November\",\"December\"],\"wgRequestId\":\"effb7f1c-76f8-4e4a-96e6-cb5115a410a2\",\"wgCSPNonce\":!1,\"wgCanonicalNamespace\":\"\",\"wgCanonicalSpecialPageName\":!1,\"wgNamespaceNumber\":0,\"wgPageName\":\"List_of_postal_codes_of_Canada:_M\",\"wgTitle\":\"List of postal codes of Canada: M\",\"wgCurRevisionId\":960187814,\"wgRevisionId\":960187814,\"wgArticleId\":539066,\"wgIsArticle\":!0,\"wgIsRedirect\":!1,\"wgAction\":\"view\",\"wgUserName\":null,\"wgUserGroups\":[\"*\"],\"wgCategories\":[\"Articles with short description\",\"Communications in Ontario\",\"Postal codes in Canada\",\"Toron\n"
                }
            ],
            "source": "print(soup.prettify()[:1000])"
        },
        {
            "cell_type": "code",
            "execution_count": 14,
            "metadata": {},
            "outputs": [
                {
                    "name": "stdout",
                    "output_type": "stream",
                    "text": "Postal Code\nBorough\nNeighborhood\n"
                }
            ],
            "source": "wikitable = soup.find('table')\nwikitable.find_all('th')\nfor i in wikitable.find_all('th'):\n    print(i.text.strip())"
        },
        {
            "cell_type": "code",
            "execution_count": null,
            "metadata": {},
            "outputs": [],
            "source": "columns = [i.text.strip() for i in wikitable.find_all('th')]\ndata = [[j.text.strip() for j in i.find_all('td')] for i in wikitable.find_all(\"tr\")[1:]]\ntrtdata = pd.DataFrame(data, columns = columns)\ntrtdata['Neighborhood'] = trtdata.Neighborhood.apply(lambda x: x.replace(' /',','))\ntrtdata.columns = ['PostalCode','Borough', 'Neighborhood']\n"
        },
        {
            "cell_type": "code",
            "execution_count": 2,
            "metadata": {},
            "outputs": [],
            "source": "# The code was removed by Watson Studio for sharing."
        },
        {
            "cell_type": "code",
            "execution_count": null,
            "metadata": {},
            "outputs": [],
            "source": ""
        }
    ],
    "metadata": {
        "colab": {
            "name": "Capstone Project - The Battle of Neighborhoods (Week 2).ipynb",
            "provenance": []
        },
        "kernelspec": {
            "display_name": "Python 3.6",
            "language": "python",
            "name": "python3"
        },
        "language_info": {
            "codemirror_mode": {
                "name": "ipython",
                "version": 3
            },
            "file_extension": ".py",
            "mimetype": "text/x-python",
            "name": "python",
            "nbconvert_exporter": "python",
            "pygments_lexer": "ipython3",
            "version": "3.6.9"
        }
    },
    "nbformat": 4,
    "nbformat_minor": 1
}