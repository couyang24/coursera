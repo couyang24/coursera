{
  "nbformat": 4,
  "nbformat_minor": 0,
  "metadata": {
    "colab": {
      "name": "Capstone Project - The Battle of Neighborhoods (Week 2).ipynb",
      "provenance": [],
      "include_colab_link": true
    },
    "kernelspec": {
      "display_name": "Python 3.6",
      "language": "python",
      "name": "python3"
    },
    "language_info": {
      "codemirror_mode": {
        "name": "ipython",
        "version": 3
      },
      "file_extension": ".py",
      "mimetype": "text/x-python",
      "name": "python",
      "nbconvert_exporter": "python",
      "pygments_lexer": "ipython3",
      "version": "3.6.9"
    }
  },
  "cells": [
    {
      "cell_type": "markdown",
      "metadata": {
        "id": "view-in-github",
        "colab_type": "text"
      },
      "source": [
        "<a href=\"https://colab.research.google.com/github/couyang24/coursera/blob/master/Capstone_Project_The_Battle_of_Neighborhoods_(Week_2).ipynb\" target=\"_parent\"><img src=\"https://colab.research.google.com/assets/colab-badge.svg\" alt=\"Open In Colab\"/></a>"
      ]
    },
    {
      "cell_type": "markdown",
      "metadata": {
        "colab_type": "text",
        "id": "rKOnpXoj4--W"
      },
      "source": [
        "# Food Hunt in downtown Toronto (Part 2)"
      ]
    },
    {
      "cell_type": "markdown",
      "metadata": {
        "colab_type": "text",
        "id": "K0n2wKPj5LeN"
      },
      "source": [
        "# Load Packages"
      ]
    },
    {
      "cell_type": "code",
      "metadata": {
        "id": "v7nYbMkEvt1y",
        "colab_type": "code",
        "colab": {
          "base_uri": "https://localhost:8080/",
          "height": 275
        },
        "outputId": "97bf23eb-1ba6-4bf8-b30b-f722ef2ef898"
      },
      "source": [
        "!pip install pgeocode"
      ],
      "execution_count": 13,
      "outputs": [
        {
          "output_type": "stream",
          "text": [
            "Collecting pgeocode\n",
            "  Downloading https://files.pythonhosted.org/packages/86/44/519e3db3db84acdeb29e24f2e65991960f13464279b61bde5e9e96909c9d/pgeocode-0.2.1-py2.py3-none-any.whl\n",
            "Requirement already satisfied: numpy in /usr/local/lib/python3.6/dist-packages (from pgeocode) (1.18.5)\n",
            "Requirement already satisfied: pandas in /usr/local/lib/python3.6/dist-packages (from pgeocode) (1.0.5)\n",
            "Requirement already satisfied: requests in /usr/local/lib/python3.6/dist-packages (from pgeocode) (2.23.0)\n",
            "Requirement already satisfied: python-dateutil>=2.6.1 in /usr/local/lib/python3.6/dist-packages (from pandas->pgeocode) (2.8.1)\n",
            "Requirement already satisfied: pytz>=2017.2 in /usr/local/lib/python3.6/dist-packages (from pandas->pgeocode) (2018.9)\n",
            "Requirement already satisfied: idna<3,>=2.5 in /usr/local/lib/python3.6/dist-packages (from requests->pgeocode) (2.10)\n",
            "Requirement already satisfied: urllib3!=1.25.0,!=1.25.1,<1.26,>=1.21.1 in /usr/local/lib/python3.6/dist-packages (from requests->pgeocode) (1.24.3)\n",
            "Requirement already satisfied: chardet<4,>=3.0.2 in /usr/local/lib/python3.6/dist-packages (from requests->pgeocode) (3.0.4)\n",
            "Requirement already satisfied: certifi>=2017.4.17 in /usr/local/lib/python3.6/dist-packages (from requests->pgeocode) (2020.6.20)\n",
            "Requirement already satisfied: six>=1.5 in /usr/local/lib/python3.6/dist-packages (from python-dateutil>=2.6.1->pandas->pgeocode) (1.15.0)\n",
            "Installing collected packages: pgeocode\n",
            "Successfully installed pgeocode-0.2.1\n"
          ],
          "name": "stdout"
        }
      ]
    },
    {
      "cell_type": "code",
      "metadata": {
        "colab_type": "code",
        "id": "7_ZNAphA4--a",
        "colab": {}
      },
      "source": [
        "import pandas as pd\n",
        "import requests\n",
        "from bs4 import BeautifulSoup\n",
        "import folium\n",
        "from folium.plugins import MarkerCluster\n",
        "from geopy.geocoders import Nominatim"
      ],
      "execution_count": 4,
      "outputs": []
    },
    {
      "cell_type": "code",
      "metadata": {
        "id": "2kbO_d5GucT8",
        "colab_type": "code",
        "colab": {}
      },
      "source": [
        "def locator(df, postal_code, country_code):\n",
        "    import pgeocode\n",
        "    import pandas\n",
        "\n",
        "    nomi = pgeocode.Nominatim(country_code)\n",
        "    df['lat'] = df[postal_code].apply(lambda x:nomi.query_postal_code(x).latitude)\n",
        "    df['lng'] = df[postal_code].apply(lambda x:nomi.query_postal_code(x).longitude)\n",
        "\n",
        "    return df"
      ],
      "execution_count": 5,
      "outputs": []
    },
    {
      "cell_type": "code",
      "metadata": {
        "id": "2LrysphZucUJ",
        "colab_type": "code",
        "colab": {}
      },
      "source": [
        "url = requests.get('https://en.wikipedia.org/wiki/List_of_postal_codes_of_Canada:_M').text\n",
        "soup = BeautifulSoup(url, 'lxml')\n",
        "wikitable = soup.find('table')\n",
        "columns = [i.text.strip() for i in wikitable.find_all('th')]\n",
        "data = [[j.text.strip() for j in i.find_all('td')] for i in wikitable.find_all(\"tr\")[1:]]\n",
        "trtdata = pd.DataFrame(data, columns = columns)\n",
        "trtdata['Neighbourhood'] = trtdata.Neighbourhood.apply(lambda x: x.replace(' /',','))\n",
        "trtdata.columns = ['PostalCode','Borough', 'Neighbourhood']"
      ],
      "execution_count": 8,
      "outputs": []
    },
    {
      "cell_type": "code",
      "metadata": {
        "id": "pBKlCMtaucUV",
        "colab_type": "code",
        "colab": {}
      },
      "source": [
        "trtdata1 = trtdata.loc[trtdata.Borough != 'Not assigned'].reset_index(drop=True)\n",
        "trtdata1.loc[trtdata1.Neighbourhood == 'Not assigned', 'Neighbourhood'] = trtdata['Borough']\n",
        "trtdata2 = trtdata1.groupby(['PostalCode', 'Borough']).agg(', '.join).reset_index()\n",
        "trtdata3 = locator(trtdata2, 'PostalCode', 'ca')\n",
        "trtdata3 = trtdata3.dropna()"
      ],
      "execution_count": 14,
      "outputs": []
    },
    {
      "cell_type": "code",
      "metadata": {
        "id": "J1RNH3qyucUh",
        "colab_type": "code",
        "colab": {
          "base_uri": "https://localhost:8080/",
          "height": 204
        },
        "outputId": "92b54a6f-314a-4ac9-c19e-bf18ca9bbe85"
      },
      "source": [
        "trtdata3.head()"
      ],
      "execution_count": 15,
      "outputs": [
        {
          "output_type": "execute_result",
          "data": {
            "text/html": [
              "<div>\n",
              "<style scoped>\n",
              "    .dataframe tbody tr th:only-of-type {\n",
              "        vertical-align: middle;\n",
              "    }\n",
              "\n",
              "    .dataframe tbody tr th {\n",
              "        vertical-align: top;\n",
              "    }\n",
              "\n",
              "    .dataframe thead th {\n",
              "        text-align: right;\n",
              "    }\n",
              "</style>\n",
              "<table border=\"1\" class=\"dataframe\">\n",
              "  <thead>\n",
              "    <tr style=\"text-align: right;\">\n",
              "      <th></th>\n",
              "      <th>PostalCode</th>\n",
              "      <th>Borough</th>\n",
              "      <th>Neighbourhood</th>\n",
              "      <th>lat</th>\n",
              "      <th>lng</th>\n",
              "    </tr>\n",
              "  </thead>\n",
              "  <tbody>\n",
              "    <tr>\n",
              "      <th>0</th>\n",
              "      <td>M1B</td>\n",
              "      <td>Scarborough</td>\n",
              "      <td>Malvern, Rouge</td>\n",
              "      <td>43.8113</td>\n",
              "      <td>-79.1930</td>\n",
              "    </tr>\n",
              "    <tr>\n",
              "      <th>1</th>\n",
              "      <td>M1C</td>\n",
              "      <td>Scarborough</td>\n",
              "      <td>Rouge Hill, Port Union, Highland Creek</td>\n",
              "      <td>43.7878</td>\n",
              "      <td>-79.1564</td>\n",
              "    </tr>\n",
              "    <tr>\n",
              "      <th>2</th>\n",
              "      <td>M1E</td>\n",
              "      <td>Scarborough</td>\n",
              "      <td>Guildwood, Morningside, West Hill</td>\n",
              "      <td>43.7678</td>\n",
              "      <td>-79.1866</td>\n",
              "    </tr>\n",
              "    <tr>\n",
              "      <th>3</th>\n",
              "      <td>M1G</td>\n",
              "      <td>Scarborough</td>\n",
              "      <td>Woburn</td>\n",
              "      <td>43.7712</td>\n",
              "      <td>-79.2144</td>\n",
              "    </tr>\n",
              "    <tr>\n",
              "      <th>4</th>\n",
              "      <td>M1H</td>\n",
              "      <td>Scarborough</td>\n",
              "      <td>Cedarbrae</td>\n",
              "      <td>43.7686</td>\n",
              "      <td>-79.2389</td>\n",
              "    </tr>\n",
              "  </tbody>\n",
              "</table>\n",
              "</div>"
            ],
            "text/plain": [
              "  PostalCode      Borough  ...      lat      lng\n",
              "0        M1B  Scarborough  ...  43.8113 -79.1930\n",
              "1        M1C  Scarborough  ...  43.7878 -79.1564\n",
              "2        M1E  Scarborough  ...  43.7678 -79.1866\n",
              "3        M1G  Scarborough  ...  43.7712 -79.2144\n",
              "4        M1H  Scarborough  ...  43.7686 -79.2389\n",
              "\n",
              "[5 rows x 5 columns]"
            ]
          },
          "metadata": {
            "tags": []
          },
          "execution_count": 15
        }
      ]
    },
    {
      "cell_type": "code",
      "metadata": {
        "id": "4NMq7glWyi4r",
        "colab_type": "code",
        "colab": {},
        "cellView": "both"
      },
      "source": [
        "#@title Default title text\n",
        "import numpy"
      ],
      "execution_count": 16,
      "outputs": []
    },
    {
      "cell_type": "code",
      "metadata": {
        "id": "_1a2ybRrucU9",
        "colab_type": "code",
        "colab": {}
      },
      "source": [
        "radius=1000\n",
        "LIMIT=10\n",
        "VERSION = '20200605'\n",
        "lat = trtdata3.lat[0]\n",
        "lng = trtdata3.lng[0]"
      ],
      "execution_count": null,
      "outputs": []
    },
    {
      "cell_type": "code",
      "metadata": {
        "id": "LGH_GTypucVI",
        "colab_type": "code",
        "colab": {}
      },
      "source": [
        "trtdata3.head()"
      ],
      "execution_count": null,
      "outputs": []
    },
    {
      "cell_type": "code",
      "metadata": {
        "id": "qABgh_CiucVm",
        "colab_type": "code",
        "colab": {}
      },
      "source": [
        "for row in range(trtdata3.shape[0]):\n",
        "    # create the API request URL\n",
        "    url = 'https://api.foursquare.com/v2/venues/explore?&client_id={}&client_secret={}&v={}&ll={},{}&radius={}&limit={}'.format(\n",
        "        CLIENT_ID, \n",
        "        CLIENT_SECRET, \n",
        "        VERSION, \n",
        "        trtdata3.lat[row], \n",
        "        trtdata3.lng[row], \n",
        "        radius, \n",
        "        LIMIT)\n",
        "\n",
        "    # make the GET request\n",
        "    result = requests.get(url).json()\n",
        "    \n",
        "    results.append(result)"
      ],
      "execution_count": null,
      "outputs": []
    },
    {
      "cell_type": "code",
      "metadata": {
        "id": "rkTHh_7rucVy",
        "colab_type": "code",
        "colab": {}
      },
      "source": [
        "clean_data = results[\"response\"]['groups'][0]['items']"
      ],
      "execution_count": null,
      "outputs": []
    },
    {
      "cell_type": "code",
      "metadata": {
        "id": "KqwJNPikucV9",
        "colab_type": "code",
        "colab": {}
      },
      "source": [
        "clean_data[0]['venue']['name']"
      ],
      "execution_count": null,
      "outputs": []
    },
    {
      "cell_type": "code",
      "metadata": {
        "id": "d6Yh0NcRucWJ",
        "colab_type": "code",
        "colab": {}
      },
      "source": [
        "venues_list=[]"
      ],
      "execution_count": null,
      "outputs": []
    },
    {
      "cell_type": "code",
      "metadata": {
        "id": "h4_wCqz0ucWV",
        "colab_type": "code",
        "colab": {}
      },
      "source": [
        "venues_list.append([(\n",
        "    v['venue']['name'], \n",
        "    v['venue']['location']['lat'], \n",
        "    v['venue']['location']['lng'],  \n",
        "    v['venue']['categories'][0]['name']) for v in clean_data])"
      ],
      "execution_count": null,
      "outputs": []
    },
    {
      "cell_type": "code",
      "metadata": {
        "id": "8_TXDCgoucWg",
        "colab_type": "code",
        "colab": {}
      },
      "source": [
        "[item for item in venues_list[0]]"
      ],
      "execution_count": null,
      "outputs": []
    },
    {
      "cell_type": "code",
      "metadata": {
        "id": "DJLNFky3ucWr",
        "colab_type": "code",
        "colab": {}
      },
      "source": [
        "venues_list"
      ],
      "execution_count": null,
      "outputs": []
    },
    {
      "cell_type": "code",
      "metadata": {
        "id": "oLJklBYtucW2",
        "colab_type": "code",
        "colab": {}
      },
      "source": [
        ""
      ],
      "execution_count": null,
      "outputs": []
    }
  ]
}